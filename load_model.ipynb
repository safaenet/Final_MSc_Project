{
 "cells": [
  {
   "cell_type": "code",
   "execution_count": 8,
   "id": "6272173c",
   "metadata": {},
   "outputs": [],
   "source": [
    "import os\n",
    "import cv2\n",
    "import torch\n",
    "from torchvision import transforms\n",
    "from prototypical_net import ConvNet\n",
    "from PIL import Image\n",
    "import random\n",
    "from detect_object_multiscale import detect_object_multiscale"
   ]
  },
  {
   "cell_type": "code",
   "execution_count": 9,
   "id": "6214168f",
   "metadata": {},
   "outputs": [
    {
     "data": {
      "text/plain": [
       "ConvNet(\n",
       "  (features): Sequential(\n",
       "    (0): Conv2d(3, 64, kernel_size=(3, 3), stride=(1, 1), padding=(1, 1))\n",
       "    (1): BatchNorm2d(64, eps=1e-05, momentum=0.1, affine=True, track_running_stats=True)\n",
       "    (2): ReLU()\n",
       "    (3): MaxPool2d(kernel_size=2, stride=2, padding=0, dilation=1, ceil_mode=False)\n",
       "    (4): Conv2d(64, 64, kernel_size=(3, 3), stride=(1, 1), padding=(1, 1))\n",
       "    (5): BatchNorm2d(64, eps=1e-05, momentum=0.1, affine=True, track_running_stats=True)\n",
       "    (6): ReLU()\n",
       "    (7): MaxPool2d(kernel_size=2, stride=2, padding=0, dilation=1, ceil_mode=False)\n",
       "    (8): Conv2d(64, 64, kernel_size=(3, 3), stride=(1, 1), padding=(1, 1))\n",
       "    (9): BatchNorm2d(64, eps=1e-05, momentum=0.1, affine=True, track_running_stats=True)\n",
       "    (10): ReLU()\n",
       "    (11): MaxPool2d(kernel_size=2, stride=2, padding=0, dilation=1, ceil_mode=False)\n",
       "    (12): Conv2d(64, 64, kernel_size=(3, 3), stride=(1, 1), padding=(1, 1))\n",
       "    (13): BatchNorm2d(64, eps=1e-05, momentum=0.1, affine=True, track_running_stats=True)\n",
       "    (14): ReLU()\n",
       "    (15): AdaptiveAvgPool2d(output_size=1)\n",
       "  )\n",
       ")"
      ]
     },
     "execution_count": 9,
     "metadata": {},
     "output_type": "execute_result"
    }
   ],
   "source": [
    "device = torch.device(\"cuda\" if torch.cuda.is_available() else \"cpu\")\n",
    "patch_sizes=[84, 96, 112, 128]\n",
    "stride=20\n",
    "extensions=(\".jpg\", \".jpeg\", \".png\")\n",
    "# Load model\n",
    "model = ConvNet().to(device)\n",
    "model.load_state_dict(torch.load(\"model.pth\"))\n",
    "model.eval()\n"
   ]
  },
  {
   "cell_type": "markdown",
   "id": "87a892f2",
   "metadata": {},
   "source": [
    "### Transforms"
   ]
  },
  {
   "cell_type": "code",
   "execution_count": 10,
   "id": "f84ce0fa",
   "metadata": {},
   "outputs": [],
   "source": [
    "# Transforms\n",
    "transform = transforms.Compose([\n",
    "    transforms.Resize((84, 84)),\n",
    "    transforms.ToTensor(),\n",
    "    transforms.Normalize([0.5]*3, [0.5]*3),\n",
    "])"
   ]
  },
  {
   "cell_type": "code",
   "execution_count": 11,
   "id": "3240bcce",
   "metadata": {},
   "outputs": [],
   "source": [
    "workspace_path = \"images/workspace-images/workspace.png\"\n",
    "target_class = \"apple\"  # Change this to the desired class\n",
    "support_dir = os.path.join(\"images/train-images\", target_class)\n",
    "support_path = random.choice([\n",
    "    os.path.join(support_dir, f)\n",
    "    for f in os.listdir(support_dir)\n",
    "    if f.lower().endswith(extensions)\n",
    "])\n",
    "\n",
    "# Pick one random image from the class folder\n",
    "sample_img_path = random.choice([\n",
    "    os.path.join(support_dir, f) for f in os.listdir(support_dir) if f.endswith(extensions)\n",
    "])\n",
    "sample_img = Image.open(sample_img_path).convert(\"RGB\")\n",
    "sample_tensor = transform(sample_img).unsqueeze(0).to(device)\n",
    "sample_embedding = model(sample_tensor)\n",
    "\n",
    "# Load and process workspace image\n",
    "workspace = cv2.imread(workspace_path)\n",
    "workspace = cv2.cvtColor(workspace, cv2.COLOR_BGR2RGB)"
   ]
  },
  {
   "cell_type": "code",
   "execution_count": 12,
   "id": "8034bee3",
   "metadata": {},
   "outputs": [
    {
     "data": {
      "text/plain": [
       "[{'location': (708, 408),\n",
       "  'distance': 0.24623575806617737,\n",
       "  'patch_size': 96,\n",
       "  'confidence': 0.8024163915435479},\n",
       " {'location': (322, 442),\n",
       "  'distance': 0.2586000859737396,\n",
       "  'patch_size': 84,\n",
       "  'confidence': 0.7945335544978381},\n",
       " {'location': (142, 82),\n",
       "  'distance': 0.27765053510665894,\n",
       "  'patch_size': 84,\n",
       "  'confidence': 0.7826866365430039},\n",
       " {'location': (228, 208),\n",
       "  'distance': 0.29757624864578247,\n",
       "  'patch_size': 96,\n",
       "  'confidence': 0.7706676205299315},\n",
       " {'location': (328, 68),\n",
       "  'distance': 0.3331809639930725,\n",
       "  'patch_size': 96,\n",
       "  'confidence': 0.7500857175494415}]"
      ]
     },
     "execution_count": 12,
     "metadata": {},
     "output_type": "execute_result"
    }
   ],
   "source": [
    "result = detect_object_multiscale(\n",
    "    model=model,\n",
    "    support_path=support_path,\n",
    "    workspace_path=workspace_path,\n",
    "    patch_sizes=patch_sizes,\n",
    "    stride=stride,\n",
    "    device=device,\n",
    "    distance=3,\n",
    "    threshold=0.004,\n",
    "    confidence=0.50\n",
    ")\n",
    "result\n",
    "# Print the results\n",
    "# print(f\"Best match at: {result['location']}, Distance: {result['distance']:.4f}, Patch Size: {result['patch_size']}, Confidence: {result['confidence']:.4f}\")\n"
   ]
  },
  {
   "cell_type": "code",
   "execution_count": 13,
   "id": "9a01402f",
   "metadata": {},
   "outputs": [
    {
     "name": "stdout",
     "output_type": "stream",
     "text": [
      "Number of detected objects: 5\n"
     ]
    }
   ],
   "source": [
    "print(f\"Number of detected objects: {len(result)}\")"
   ]
  },
  {
   "cell_type": "code",
   "execution_count": 14,
   "id": "92da6493",
   "metadata": {},
   "outputs": [],
   "source": [
    "if result == []:\n",
    "    print(\"Object not detected on the workspace.\")\n",
    "else:\n",
    "    for loc in result:\n",
    "        cv2.circle(workspace, loc['location'], 5, (255, 250, 0), 2)\n",
    "    cv2.imwrite(\"detected.png\", cv2.cvtColor(workspace, cv2.COLOR_RGB2BGR))"
   ]
  }
 ],
 "metadata": {
  "kernelspec": {
   "display_name": ".venv",
   "language": "python",
   "name": "python3"
  },
  "language_info": {
   "codemirror_mode": {
    "name": "ipython",
    "version": 3
   },
   "file_extension": ".py",
   "mimetype": "text/x-python",
   "name": "python",
   "nbconvert_exporter": "python",
   "pygments_lexer": "ipython3",
   "version": "3.10.0"
  }
 },
 "nbformat": 4,
 "nbformat_minor": 5
}
