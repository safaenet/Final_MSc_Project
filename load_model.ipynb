{
 "cells": [
  {
   "cell_type": "code",
   "execution_count": 296,
   "id": "6272173c",
   "metadata": {},
   "outputs": [],
   "source": [
    "import os\n",
    "import cv2\n",
    "import torch\n",
    "from torchvision import transforms\n",
    "from prototypical_net import ConvNet\n",
    "from PIL import Image\n",
    "import random"
   ]
  },
  {
   "cell_type": "markdown",
   "id": "94823254",
   "metadata": {},
   "source": [
    "### Load"
   ]
  },
  {
   "cell_type": "code",
   "execution_count": 297,
   "id": "6447048b",
   "metadata": {},
   "outputs": [],
   "source": [
    "device = torch.device(\"cuda\" if torch.cuda.is_available() else \"cpu\")\n",
    "# Parameters\n",
    "target_class = \"rectangle\"  # Change this to the desired class\n",
    "support_dir = os.path.join(\"synthetic-shapes\", target_class)\n",
    "workspace_path = \"workspace.png\""
   ]
  },
  {
   "cell_type": "markdown",
   "id": "87a892f2",
   "metadata": {},
   "source": [
    "### Transforms"
   ]
  },
  {
   "cell_type": "code",
   "execution_count": 298,
   "id": "f84ce0fa",
   "metadata": {},
   "outputs": [],
   "source": [
    "# Transforms\n",
    "transform = transforms.Compose([\n",
    "    transforms.Resize((84, 84)),\n",
    "    transforms.ToTensor(),\n",
    "    transforms.Normalize([0.5]*3, [0.5]*3),\n",
    "])"
   ]
  },
  {
   "cell_type": "code",
   "execution_count": 299,
   "id": "6214168f",
   "metadata": {},
   "outputs": [
    {
     "data": {
      "text/plain": [
       "ConvNet(\n",
       "  (features): Sequential(\n",
       "    (0): Conv2d(3, 64, kernel_size=(3, 3), stride=(1, 1), padding=(1, 1))\n",
       "    (1): BatchNorm2d(64, eps=1e-05, momentum=0.1, affine=True, track_running_stats=True)\n",
       "    (2): ReLU()\n",
       "    (3): MaxPool2d(kernel_size=2, stride=2, padding=0, dilation=1, ceil_mode=False)\n",
       "    (4): Conv2d(64, 64, kernel_size=(3, 3), stride=(1, 1), padding=(1, 1))\n",
       "    (5): BatchNorm2d(64, eps=1e-05, momentum=0.1, affine=True, track_running_stats=True)\n",
       "    (6): ReLU()\n",
       "    (7): MaxPool2d(kernel_size=2, stride=2, padding=0, dilation=1, ceil_mode=False)\n",
       "    (8): Conv2d(64, 64, kernel_size=(3, 3), stride=(1, 1), padding=(1, 1))\n",
       "    (9): BatchNorm2d(64, eps=1e-05, momentum=0.1, affine=True, track_running_stats=True)\n",
       "    (10): ReLU()\n",
       "    (11): MaxPool2d(kernel_size=2, stride=2, padding=0, dilation=1, ceil_mode=False)\n",
       "    (12): Conv2d(64, 64, kernel_size=(3, 3), stride=(1, 1), padding=(1, 1))\n",
       "    (13): BatchNorm2d(64, eps=1e-05, momentum=0.1, affine=True, track_running_stats=True)\n",
       "    (14): ReLU()\n",
       "    (15): AdaptiveAvgPool2d(output_size=1)\n",
       "  )\n",
       ")"
      ]
     },
     "execution_count": 299,
     "metadata": {},
     "output_type": "execute_result"
    }
   ],
   "source": [
    "# Load model\n",
    "model = ConvNet().to(device)\n",
    "model.load_state_dict(torch.load(\"model.pth\"))\n",
    "model.eval()\n"
   ]
  },
  {
   "cell_type": "code",
   "execution_count": 300,
   "id": "3240bcce",
   "metadata": {},
   "outputs": [],
   "source": [
    "# Pick one random image from the class folder\n",
    "sample_img_path = random.choice([\n",
    "    os.path.join(support_dir, f) for f in os.listdir(support_dir) if f.endswith(\".png\")\n",
    "])\n",
    "sample_img = Image.open(sample_img_path).convert(\"RGB\")\n",
    "sample_tensor = transform(sample_img).unsqueeze(0).to(device)\n",
    "sample_embedding = model(sample_tensor)\n",
    "\n",
    "# Load and process workspace image\n",
    "workspace = cv2.imread(workspace_path)\n",
    "workspace = cv2.cvtColor(workspace, cv2.COLOR_BGR2RGB)"
   ]
  },
  {
   "cell_type": "code",
   "execution_count": 301,
   "id": "f6205c22",
   "metadata": {},
   "outputs": [],
   "source": [
    "# support_path = \"synthetic-shapes/circle/img1.png\"\n",
    "# # مرحله 1: محاسبه embedding پشتیبان\n",
    "# with torch.no_grad():\n",
    "#     support_tensor = transform(Image.open(support_path).convert(\"RGB\")).unsqueeze(0).to(device)\n",
    "#     support_embedding = model(support_tensor)\n",
    "\n",
    "# # مرحله 2: sliding window در چند scale\n",
    "# patch_sizes = [84, 96, 112, 128]\n",
    "# stride = 20\n",
    "# min_dist = float('inf')\n",
    "# for patch_size in patch_sizes:\n",
    "#     for y in range(0, h - patch_size + 1, stride):\n",
    "#         for x in range(0, w - patch_size + 1, stride):\n",
    "#             patch = workspace[y:y+patch_size, x:x+patch_size]\n",
    "#             patch_resized = cv2.resize(patch, (84, 84))  # همان اندازه آموزش\n",
    "#             patch_tensor = transform(Image.fromarray(patch_resized)).unsqueeze(0).to(device)\n",
    "\n",
    "#             patch_embedding = model(patch_tensor)\n",
    "#             dist = torch.norm(support_embedding - patch_embedding).item()\n",
    "\n",
    "#             if dist < min_dist:\n",
    "#                 min_dist = dist\n",
    "#                 best_pos = (x + patch_size // 2, y + patch_size // 2)\n",
    "\n",
    "# print(f\"Class: {target_class}, Location: {best_pos}, Distance: {min_dist:.4f}\")"
   ]
  },
  {
   "cell_type": "code",
   "execution_count": 302,
   "id": "8034bee3",
   "metadata": {},
   "outputs": [
    {
     "name": "stdout",
     "output_type": "stream",
     "text": [
      "Best match at: (322, 322), Distance: 0.1491, Patch Size: 84\n"
     ]
    }
   ],
   "source": [
    "from detect_object_multiscale import detect_object_multiscale\n",
    "\n",
    "\n",
    "result = detect_object_multiscale(\n",
    "    model=model,\n",
    "    support_path=\"synthetic-shapes/rectangle/img0.png\",\n",
    "    workspace_path=\"workspace.png\",\n",
    "    patch_sizes=[84, 96, 112, 128],\n",
    "    stride=20,\n",
    "    device='cuda' if torch.cuda.is_available() else 'cpu'\n",
    ")\n",
    "\n",
    "print(f\"Best match at: {result['location']}, Distance: {result['distance']:.4f}, Patch Size: {result['patch_size']}\")\n"
   ]
  },
  {
   "cell_type": "code",
   "execution_count": 303,
   "id": "7271cc0e",
   "metadata": {},
   "outputs": [],
   "source": [
    "# cv2.circle(workspace, best_pos, 10, (255, 100, 0), 2)\n",
    "# cv2.imwrite(\"detected.png\", cv2.cvtColor(workspace, cv2.COLOR_RGB2BGR))"
   ]
  },
  {
   "cell_type": "code",
   "execution_count": 304,
   "id": "92da6493",
   "metadata": {},
   "outputs": [
    {
     "data": {
      "text/plain": [
       "True"
      ]
     },
     "execution_count": 304,
     "metadata": {},
     "output_type": "execute_result"
    }
   ],
   "source": [
    "best_pos = result['location']\n",
    "cv2.circle(workspace, best_pos, 5, (255, 250, 0), 2)\n",
    "cv2.imwrite(\"detected.png\", cv2.cvtColor(workspace, cv2.COLOR_RGB2BGR))"
   ]
  }
 ],
 "metadata": {
  "kernelspec": {
   "display_name": ".venv",
   "language": "python",
   "name": "python3"
  },
  "language_info": {
   "codemirror_mode": {
    "name": "ipython",
    "version": 3
   },
   "file_extension": ".py",
   "mimetype": "text/x-python",
   "name": "python",
   "nbconvert_exporter": "python",
   "pygments_lexer": "ipython3",
   "version": "3.10.0"
  }
 },
 "nbformat": 4,
 "nbformat_minor": 5
}
